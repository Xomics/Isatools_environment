{
 "cells": [
  {
   "cell_type": "code",
   "execution_count": null,
   "metadata": {},
   "outputs": [],
   "source": [
    "# biopy-isatab Python parser for ISA-tab\n",
    "\n",
    "from bcbio import isatab\n",
    "\n",
    "rec = isatab.parse(input_dir)\n",
    "print(rec.metadata)\n",
    "print('\\n\\n')\n",
    "print(rec.ontology_refs)\n",
    "print('\\n\\n')\n",
    "print(rec.publications)\n",
    "print('\\n\\n')\n",
    "print(rec.studies)"
   ]
  },
  {
   "cell_type": "code",
   "execution_count": null,
   "id": "funky-gambling",
   "metadata": {},
   "outputs": [],
   "source": [
    "# Import isa-files from Metabolights\n",
    "# (connection with Metabolights is necessary)\n",
    "\n",
    "from isatools.net import mtbls as MTBLS\n",
    "\n",
    "tmp_dir = MTBLS.get('MTBLS1')"
   ]
  },
  {
   "cell_type": "code",
   "execution_count": null,
   "id": "harmful-inventory",
   "metadata": {},
   "outputs": [],
   "source": [
    "# Reading ISA-Tab from local files\n",
    "# (These are downloaded from Metabolights)\n",
    "\n",
    "import isatools\n",
    "import sys\n",
    "import os\n",
    "from isatools import isatab\n",
    "\n",
    "with open(os.path.join(input_dir)) as fp:\n",
    "    ISA = isatab.load(fp)\n",
    "\n",
    "# Studies   \n",
    "studies = ISA.studies\n",
    "print(len(studies))\n",
    "\n",
    "# First study\n",
    "study_1 = ISA.studies[0]\n",
    "\n",
    "# Title of the first study object \n",
    "study_1.title\n",
    "\n",
    "# Description of the first study object in ISA Investigation object\n",
    "study_1.description"
   ]
  },
  {
   "cell_type": "code",
   "execution_count": null,
   "id": "floating-villa",
   "metadata": {
    "scrolled": true
   },
   "outputs": [],
   "source": [
    "# Protocols declared in the first study\n",
    "\n",
    "\n",
    "protocols = study_1.protocols\n",
    "print('Number of protocols = ', len(protocols), '\\n\\n')\n",
    "protocol_1 = protocols[0]\n",
    "print(protocol_1, '\\n\\n')\n",
    "print(protocol_1.description)\n",
    "\n",
    "protocols_descriptions = [protocol.description for protocol in protocols]\n"
   ]
  },
  {
   "cell_type": "code",
   "execution_count": null,
   "id": "random-appeal",
   "metadata": {},
   "outputs": [],
   "source": [
    "\n",
    "assays = study_1.assays\n",
    "print(\"Number of assays = \", len(assays), '\\n\\n')\n",
    "assay1 = assays[0]\n",
    "print(assay1)\n",
    "print(assay1.measurement_type, '\\n\\n')\n",
    "\n",
    "\n",
    "# Assay Measurement and Technology Types that are used in this study\n",
    "[\n",
    "    assay.measurement_type.term + \" using \" + assay.technology_type.term for assay in assays\n",
    "]"
   ]
  },
  {
   "cell_type": "code",
   "execution_count": null,
   "id": "second-mapping",
   "metadata": {
    "scrolled": true
   },
   "outputs": [],
   "source": [
    "# ISA Study source material\n",
    "\n",
    "[source.name for source in study_1.sources]\n",
    "\n",
    "study_1.sources[0].name = 'TEST'"
   ]
  },
  {
   "cell_type": "code",
   "execution_count": null,
   "id": "following-budget",
   "metadata": {
    "scrolled": true
   },
   "outputs": [],
   "source": [
    "# Get all characteristics of the first Source Object\n",
    "\n",
    "first_source_characeristics = study_1.sources[0].characteristics\n",
    "print('Number of characteristics = ', len(first_source_characeristics))\n",
    "\n",
    "print(first_source_characeristics[0])"
   ]
  },
  {
   "cell_type": "code",
   "execution_count": null,
   "id": "arbitrary-ratio",
   "metadata": {},
   "outputs": [],
   "source": [
    "# Change the category term of the first characteristic\n",
    "first_source_characeristics[0].category.term = 'TEST'\n",
    "\n",
    "print(first_source_characeristics[0])"
   ]
  },
  {
   "cell_type": "code",
   "execution_count": null,
   "id": "christian-decline",
   "metadata": {},
   "outputs": [],
   "source": [
    "# Porperties associated with first ISA Study sourcee\n",
    "\n",
    "[char.category.term for char in first_source_characeristics]\n",
    "\n",
    "[char.value.term for char in first_source_characeristics]"
   ]
  },
  {
   "cell_type": "code",
   "execution_count": null,
   "id": "consistent-commerce",
   "metadata": {},
   "outputs": [],
   "source": [
    "# Export ISA files with adjustments\n",
    "\n",
    "isatab.dump(ISA, output_dir)"
   ]
  },
  {
   "cell_type": "code",
   "execution_count": null,
   "id": "developmental-facial",
   "metadata": {},
   "outputs": [],
   "source": [
    "print(type(ISA.studies[0]))\n",
    "\n",
    "print(type(ISA.studies[0].assays[0]))"
   ]
  },
  {
   "cell_type": "code",
   "execution_count": null,
   "id": "asian-vector",
   "metadata": {},
   "outputs": [],
   "source": [
    "from local_package_installer.local_package_installer import install_local\n",
    "install_local('isatools')"
   ]
  },
  {
   "cell_type": "code",
   "execution_count": null,
   "id": "united-seller",
   "metadata": {},
   "outputs": [],
   "source": [
    "# Export ISA files with adjustments\n",
    "\n",
    "isatab.dump(ISA, output_dir)"
   ]
  },
  {
   "cell_type": "code",
   "execution_count": null,
   "id": "crazy-price",
   "metadata": {},
   "outputs": [],
   "source": [
    "import json\n",
    "from isatools.isajson import ISAJSONEncoder\n",
    "test = json.dumps(ISA, cls=ISAJSONEncoder, sort_keys=True, indent=4, separators=(',', ': '))\n",
    "print(type(test))"
   ]
  },
  {
   "cell_type": "code",
   "execution_count": null,
   "id": "earlier-airfare",
   "metadata": {},
   "outputs": [],
   "source": [
    "with open('test.json', 'w') as json_file:\n",
    "    json_file.write(test)"
   ]
  },
  {
   "cell_type": "code",
   "execution_count": null,
   "id": "linear-hacker",
   "metadata": {},
   "outputs": [],
   "source": [
    "ISA.studies[0].description"
   ]
  },
  {
   "cell_type": "code",
   "execution_count": null,
   "id": "swiss-level",
   "metadata": {
    "scrolled": true
   },
   "outputs": [],
   "source": [
    "ISA.studies[0].assays[0]"
   ]
  },
  {
   "cell_type": "code",
   "execution_count": null,
   "id": "optical-shoulder",
   "metadata": {},
   "outputs": [],
   "source": [
    "Assay = (type(ISA.studies[0].assays[0]))\n",
    "\n",
    "class Student(Assay):\n",
    "    def add_comment2(self):\n",
    "        return len(self)"
   ]
  },
  {
   "cell_type": "code",
   "execution_count": null,
   "id": "removable-border",
   "metadata": {},
   "outputs": [],
   "source": [
    "test = Student('Test', 'Test2')\n",
    "test2 = Student.add_comment2('test')\n",
    "\n",
    "print(test2)"
   ]
  },
  {
   "cell_type": "code",
   "execution_count": null,
   "id": "preceding-promotion",
   "metadata": {},
   "outputs": [],
   "source": [
    "Assay1 = (ISA.studies[0].assays[0])\n",
    "\n",
    "Assay2 = (ISA.studies[0].assays[1])\n",
    "\n",
    "print(Assay1)\n",
    "print(Assay2)"
   ]
  }
 ],
 "metadata": {
  "kernelspec": {
   "display_name": "Python (isa_env)",
   "language": "python",
   "name": "isa_env"
  },
  "language_info": {
   "codemirror_mode": {
    "name": "ipython",
    "version": 3
   },
   "file_extension": ".py",
   "mimetype": "text/x-python",
   "name": "python",
   "nbconvert_exporter": "python",
   "pygments_lexer": "ipython3",
   "version": "3.8.3"
  }
 },
 "nbformat": 4,
 "nbformat_minor": 5
}